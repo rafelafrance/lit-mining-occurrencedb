{
 "cells": [
  {
   "cell_type": "markdown",
   "metadata": {},
   "source": [
    "# Get files from Zotero"
   ]
  },
  {
   "cell_type": "code",
   "execution_count": 1,
   "metadata": {
    "collapsed": true
   },
   "outputs": [],
   "source": [
    "import os\n",
    "from os.path import join, basename, splitext\n",
    "import subprocess\n",
    "from glob import glob\n",
    "from shutil import copy\n",
    "from random import shuffle, seed\n",
    "\n",
    "from pyzotero import zotero\n",
    "\n",
    "from lib.secrets import CORRECTED_PAPERS_DATASET, USER_KEY"
   ]
  },
  {
   "cell_type": "code",
   "execution_count": 2,
   "metadata": {
    "collapsed": true
   },
   "outputs": [],
   "source": [
    "output_dir = join('data', 'pdf')"
   ]
  },
  {
   "cell_type": "markdown",
   "metadata": {},
   "source": [
    "This is the function that does the actual download of the PDFs using Zotero's API.\n",
    "\n",
    "First, we need to get all of the collections in the Zotero Library. Collections are like sub-folders in the library. We will be looking for a collection with the given name.\n",
    "\n",
    "Next, we will get all of the items in a collection with a given tag. We have been tagging items with a \"Rel-Yes\" or \"Rel-No\" when we determine if the item is relevant to the study or not.\n",
    "\n",
    "Finally, we can get the PDF attachment associated with the item. An item may have more than one attachment (PDF, HTML, etc.) underneath it. However, for our current purpose we are only concerned with the PDF."
   ]
  },
  {
   "cell_type": "code",
   "execution_count": 3,
   "metadata": {
    "collapsed": true
   },
   "outputs": [],
   "source": [
    "def get_pdfs(output_dir, collection_name, tag):\n",
    "\n",
    "    # Create the output directory\n",
    "    path = join(output_dir, collection_name, tag)\n",
    "    os.makedirs(path, exist_ok=True)\n",
    "\n",
    "    # Connect to Zotero\n",
    "    zot = zotero.Zotero(CORRECTED_PAPERS_DATASET, 'group', USER_KEY)\n",
    "\n",
    "    # Get the collection of interest and it's key\n",
    "    collections = {c['data']['name']: c for c in zot.collections()}\n",
    "    collection = collections[collection_name]\n",
    "    key = collection['key']\n",
    "\n",
    "    # Now get the items in the collection that have the given tag\n",
    "    items = [d for d in zot.everything(zot.collection_items(key, tag=tag))]\n",
    "    # items = [d for d in zot.collection_items(key, tag=tag, limit=3)]\n",
    "\n",
    "    # Get the PDF attachment for each item and save it to the category directory\n",
    "    for item in items:\n",
    "        # An item's attachments\n",
    "        children = [c for c in zot.children(item['key'])]\n",
    "\n",
    "        # Just get the PDFs\n",
    "        pdfs = [c for c in children\n",
    "                if c['data'].get('contentType') == 'application/pdf']\n",
    "\n",
    "        # Handle when there are no attachments\n",
    "        if not children:\n",
    "            print('\\nMISSING DOCUMENTS {}\\n'.format(item['key']))\n",
    "        # Handle when there are no PDF attachments\n",
    "        elif not pdfs:\n",
    "            print('\\nNO PDFs {}\\n'.format(item['key']))\n",
    "        # Handle when there is more than one PDF attachment\n",
    "        elif len(pdfs) != 1:\n",
    "            print('\\nTOO MANY PDFs {}\\n'.format(item['key']))\n",
    "        # Save the PDF to the category directory\n",
    "        else:\n",
    "            doc = pdfs[0]\n",
    "            print(doc['data']['filename'])\n",
    "            zot.dump(doc['key'], '{}.pdf'.format(doc['key']), path)"
   ]
  },
  {
   "cell_type": "code",
   "execution_count": 16,
   "metadata": {},
   "outputs": [
    {
     "name": "stdout",
     "output_type": "stream",
     "text": [
      "T7HXEB68\n"
     ]
    }
   ],
   "source": [
    "get_pdfs(output_dir, 'RSet_N1', 'Rel-Yes')\n",
    "get_pdfs(output_dir, 'RSet_N1', 'Rel-No')\n",
    "get_pdfs(output_dir, 'RSet_N2', 'Rel-Yes')\n",
    "get_pdfs(output_dir, 'RSet_N2', 'Rel-No')"
   ]
  },
  {
   "cell_type": "markdown",
   "metadata": {
    "collapsed": true
   },
   "source": [
    "# Handle duplicate files"
   ]
  },
  {
   "cell_type": "markdown",
   "metadata": {},
   "source": [
    "It turns out that some files have both labels (Rel-Yes and Rel-No). We need to remove these files from the data set."
   ]
  },
  {
   "cell_type": "markdown",
   "metadata": {},
   "source": [
    "Get all PDF file names for a particular category."
   ]
  },
  {
   "cell_type": "code",
   "execution_count": 5,
   "metadata": {
    "collapsed": true
   },
   "outputs": [],
   "source": [
    "def file_names(root, category):\n",
    "    pattern = join('data', 'pdf', root, category, '*.pdf')\n",
    "    paths = glob(pattern)\n",
    "    return [basename(p) for p in paths]"
   ]
  },
  {
   "cell_type": "markdown",
   "metadata": {},
   "source": [
    "We move one copy of the file out of the way and delete the extra copy."
   ]
  },
  {
   "cell_type": "code",
   "execution_count": 6,
   "metadata": {
    "collapsed": true
   },
   "outputs": [],
   "source": [
    "def move_duplicates(root):\n",
    "\n",
    "    rel_yes = set(file_names(root, 'Rel-Yes'))\n",
    "    rel_no = set(file_names(root, 'Rel-No'))\n",
    "    duplicates = rel_yes & rel_no\n",
    "\n",
    "    dup_root = join('data', 'pdf', 'duplicates')\n",
    "    os.makedirs(dup_root, exist_ok=True)\n",
    "\n",
    "    for duplicate in duplicates:\n",
    "        print(duplicate)\n",
    "        src = join('data', 'pdf', root, 'Rel-Yes', duplicate)\n",
    "        dst = join(dup_root, duplicate)\n",
    "        move(src, dst)\n",
    "        src = join('data', 'pdf', root, 'Rel-No', duplicate)\n",
    "        os.remove(src)"
   ]
  },
  {
   "cell_type": "code",
   "execution_count": 7,
   "metadata": {
    "collapsed": true
   },
   "outputs": [],
   "source": [
    "move_duplicates('RSet_N1')\n",
    "move_duplicates('RSet_N2')"
   ]
  },
  {
   "cell_type": "markdown",
   "metadata": {},
   "source": [
    "# Convert PDF files to text"
   ]
  },
  {
   "cell_type": "markdown",
   "metadata": {},
   "source": [
    "Convert the PDF files to text. They will be placed into the given output directory. This utility depends on the external program \"xpdf\" specifically \"pdftotext\"."
   ]
  },
  {
   "cell_type": "markdown",
   "metadata": {},
   "source": [
    "Extract the text from the PDF ad write it to a file."
   ]
  },
  {
   "cell_type": "code",
   "execution_count": 8,
   "metadata": {
    "collapsed": true
   },
   "outputs": [],
   "source": [
    "def pdf_to_text(output_dir, pdf_path):\n",
    "    txt_name = basename(pdf_path)\n",
    "    txt_name = splitext(txt_name)[0] + '.txt'\n",
    "    txt_path = join(output_dir, txt_name)\n",
    "    cmd = \"pdftotext '{}' '{}'\".format(pdf_path, txt_path)\n",
    "    try:\n",
    "        subprocess.check_call(cmd, shell=True)\n",
    "    except Exception:\n",
    "        pass"
   ]
  },
  {
   "cell_type": "markdown",
   "metadata": {},
   "source": [
    "Loop through all of the PDFs and convert them"
   ]
  },
  {
   "cell_type": "code",
   "execution_count": 11,
   "metadata": {
    "collapsed": true
   },
   "outputs": [],
   "source": [
    "def convert_pdfs(input_dir, output_dir):\n",
    "    os.makedirs(output_dir, exist_ok=True)\n",
    "\n",
    "    pattern = join(input_dir, '*.pdf')\n",
    "    pdf_paths = glob(pattern)\n",
    "\n",
    "    for i, pdf_path in enumerate(pdf_paths, 1):\n",
    "        print('Converting:', pdf_path)\n",
    "        pdf_to_text(output_dir, pdf_path)"
   ]
  },
  {
   "cell_type": "code",
   "execution_count": 12,
   "metadata": {},
   "outputs": [
    {
     "name": "stdout",
     "output_type": "stream",
     "text": [
      "Converting: data/pdf/RSet_N1/Rel-Yes/NFBFRJE3.pdf\n",
      "Converting: data/pdf/RSet_N1/Rel-Yes/7H3FB5AR.pdf\n",
      "Converting: data/pdf/RSet_N1/Rel-Yes/9FWZX3P8.pdf\n",
      "Converting: data/pdf/RSet_N1/Rel-No/HUK6N8SE.pdf\n",
      "Converting: data/pdf/RSet_N1/Rel-No/TDIW72GZ.pdf\n",
      "Converting: data/pdf/RSet_N1/Rel-No/PQ8MRSVV.pdf\n",
      "Converting: data/pdf/RSet_N2/Rel-Yes/U2BPDHGA.pdf\n",
      "Converting: data/pdf/RSet_N2/Rel-Yes/DT5FH8G5.pdf\n",
      "Converting: data/pdf/RSet_N2/Rel-Yes/DHW5ACU8.pdf\n",
      "Converting: data/pdf/RSet_N2/Rel-No/VR7BXTHD.pdf\n",
      "Converting: data/pdf/RSet_N2/Rel-No/IFJXWSER.pdf\n"
     ]
    }
   ],
   "source": [
    "convert_pdfs('data/pdf/RSet_N1/Rel-Yes', 'data/Rel-Yes')\n",
    "convert_pdfs('data/pdf/RSet_N1/Rel-No', 'data/Rel-No')\n",
    "\n",
    "convert_pdfs('data/pdf/RSet_N2/Rel-Yes', 'data/Rel-Yes')\n",
    "convert_pdfs('data/pdf/RSet_N2/Rel-No', 'data/Rel-No')"
   ]
  },
  {
   "cell_type": "code",
   "execution_count": null,
   "metadata": {
    "collapsed": true
   },
   "outputs": [],
   "source": []
  }
 ],
 "metadata": {
  "kernelspec": {
   "display_name": "Python 3",
   "language": "python",
   "name": "python3"
  },
  "language_info": {
   "codemirror_mode": {
    "name": "ipython",
    "version": 3
   },
   "file_extension": ".py",
   "mimetype": "text/x-python",
   "name": "python",
   "nbconvert_exporter": "python",
   "pygments_lexer": "ipython3",
   "version": "3.9.0+"
  },
  "varInspector": {
   "cols": {
    "lenName": 16,
    "lenType": 16,
    "lenVar": 40
   },
   "kernels_config": {
    "python": {
     "delete_cmd_postfix": "",
     "delete_cmd_prefix": "del ",
     "library": "var_list.py",
     "varRefreshCmd": "print(var_dic_list())"
    },
    "r": {
     "delete_cmd_postfix": ") ",
     "delete_cmd_prefix": "rm(",
     "library": "var_list.r",
     "varRefreshCmd": "cat(var_dic_list()) "
    }
   },
   "types_to_exclude": [
    "module",
    "function",
    "builtin_function_or_method",
    "instance",
    "_Feature"
   ],
   "window_display": false
  }
 },
 "nbformat": 4,
 "nbformat_minor": 2
}
